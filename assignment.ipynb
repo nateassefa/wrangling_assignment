{
  "cells": [
    {
      "cell_type": "markdown",
      "id": "13ad028b-72b7-43ed-aa78-96fd4e518040",
      "metadata": {
        "id": "13ad028b-72b7-43ed-aa78-96fd4e518040"
      },
      "source": [
        "# Assignment: Data Wrangling\n",
        "### `! git clone https://github.com/ds3001f25/wrangling_assignment.git`\n",
        "### Do Q1 and Q2\n",
        "### Reading material: `tidy_data.pdf`"
      ]
    },
    {
      "cell_type": "markdown",
      "id": "da879ea7-8aac-48a3-b6c2-daea56d2e072",
      "metadata": {
        "id": "da879ea7-8aac-48a3-b6c2-daea56d2e072"
      },
      "source": [
        "**Q1.** This question provides some practice cleaning variables which have common problems.\n",
        "1. Numeric variable: For `./data/airbnb_hw.csv`, clean the `Price` variable as well as you can, and explain the choices you make. How many missing values do you end up with? (Hint: What happens to the formatting when a price goes over 999 dollars, say from 675 to 1,112?)\n",
        "2. Categorical variable: For the Minnesota police use of for data, `./data/mn_police_use_of_force.csv`, clean the `subject_injury` variable, handling the NA's; this gives a value `Yes` when a person was injured by police, and `No` when no injury occurred. What proportion of the values are missing? Is this a concern? Cross-tabulate your cleaned `subject_injury` variable with the `force_type` variable. Are there any patterns regarding when the data are missing?\n",
        "3. Dummy variable: For the pretrial data covered in the lecture `./data/justice_data.parquet`, clean the `WhetherDefendantWasReleasedPretrial` variable as well as you can, and, in particular, replace missing values with `np.nan`.\n",
        "4. Missing values, not at random: For the pretrial data covered in the lecture, clean the `ImposedSentenceAllChargeInContactEvent` variable as well as you can, and explain the choices you make. (Hint: Look at the `SentenceTypeAllChargesAtConvictionInContactEvent` variable.)"
      ]
    },
    {
      "cell_type": "code",
      "execution_count": null,
      "id": "9d412a8d",
      "metadata": {
        "id": "9d412a8d",
        "outputId": "2a7f1402-5394-4b29-e162-45d6728aa6f4",
        "colab": {
          "base_uri": "https://localhost:8080/",
          "height": 206
        }
      },
      "outputs": [
        {
          "output_type": "execute_result",
          "data": {
            "text/plain": [
              "    Host Id Host Since                                Name Neighbourhood   \\\n",
              "0   5162530        NaN     1 Bedroom in Prime Williamsburg       Brooklyn   \n",
              "1  33134899        NaN     Sunny, Private room in Bushwick       Brooklyn   \n",
              "2  39608626        NaN                Sunny Room in Harlem      Manhattan   \n",
              "3       500  6/26/2008  Gorgeous 1 BR with Private Balcony      Manhattan   \n",
              "4       500  6/26/2008            Trendy Times Square Loft      Manhattan   \n",
              "\n",
              "  Property Type  Review Scores Rating (bin)        Room Type  Zipcode  Beds  \\\n",
              "0     Apartment                         NaN  Entire home/apt  11249.0   1.0   \n",
              "1     Apartment                         NaN     Private room  11206.0   1.0   \n",
              "2     Apartment                         NaN     Private room  10032.0   1.0   \n",
              "3     Apartment                         NaN  Entire home/apt  10024.0   3.0   \n",
              "4     Apartment                        95.0     Private room  10036.0   3.0   \n",
              "\n",
              "   Number of Records  Number Of Reviews Price  Review Scores Rating  \n",
              "0                  1                  0   145                   NaN  \n",
              "1                  1                  1    37                   NaN  \n",
              "2                  1                  1    28                   NaN  \n",
              "3                  1                  0   199                   NaN  \n",
              "4                  1                 39   549                  96.0  "
            ],
            "text/html": [
              "\n",
              "  <div id=\"df-9b4a9202-8c94-4531-8a2b-f79cb72ea3bf\" class=\"colab-df-container\">\n",
              "    <div>\n",
              "<style scoped>\n",
              "    .dataframe tbody tr th:only-of-type {\n",
              "        vertical-align: middle;\n",
              "    }\n",
              "\n",
              "    .dataframe tbody tr th {\n",
              "        vertical-align: top;\n",
              "    }\n",
              "\n",
              "    .dataframe thead th {\n",
              "        text-align: right;\n",
              "    }\n",
              "</style>\n",
              "<table border=\"1\" class=\"dataframe\">\n",
              "  <thead>\n",
              "    <tr style=\"text-align: right;\">\n",
              "      <th></th>\n",
              "      <th>Host Id</th>\n",
              "      <th>Host Since</th>\n",
              "      <th>Name</th>\n",
              "      <th>Neighbourhood</th>\n",
              "      <th>Property Type</th>\n",
              "      <th>Review Scores Rating (bin)</th>\n",
              "      <th>Room Type</th>\n",
              "      <th>Zipcode</th>\n",
              "      <th>Beds</th>\n",
              "      <th>Number of Records</th>\n",
              "      <th>Number Of Reviews</th>\n",
              "      <th>Price</th>\n",
              "      <th>Review Scores Rating</th>\n",
              "    </tr>\n",
              "  </thead>\n",
              "  <tbody>\n",
              "    <tr>\n",
              "      <th>0</th>\n",
              "      <td>5162530</td>\n",
              "      <td>NaN</td>\n",
              "      <td>1 Bedroom in Prime Williamsburg</td>\n",
              "      <td>Brooklyn</td>\n",
              "      <td>Apartment</td>\n",
              "      <td>NaN</td>\n",
              "      <td>Entire home/apt</td>\n",
              "      <td>11249.0</td>\n",
              "      <td>1.0</td>\n",
              "      <td>1</td>\n",
              "      <td>0</td>\n",
              "      <td>145</td>\n",
              "      <td>NaN</td>\n",
              "    </tr>\n",
              "    <tr>\n",
              "      <th>1</th>\n",
              "      <td>33134899</td>\n",
              "      <td>NaN</td>\n",
              "      <td>Sunny, Private room in Bushwick</td>\n",
              "      <td>Brooklyn</td>\n",
              "      <td>Apartment</td>\n",
              "      <td>NaN</td>\n",
              "      <td>Private room</td>\n",
              "      <td>11206.0</td>\n",
              "      <td>1.0</td>\n",
              "      <td>1</td>\n",
              "      <td>1</td>\n",
              "      <td>37</td>\n",
              "      <td>NaN</td>\n",
              "    </tr>\n",
              "    <tr>\n",
              "      <th>2</th>\n",
              "      <td>39608626</td>\n",
              "      <td>NaN</td>\n",
              "      <td>Sunny Room in Harlem</td>\n",
              "      <td>Manhattan</td>\n",
              "      <td>Apartment</td>\n",
              "      <td>NaN</td>\n",
              "      <td>Private room</td>\n",
              "      <td>10032.0</td>\n",
              "      <td>1.0</td>\n",
              "      <td>1</td>\n",
              "      <td>1</td>\n",
              "      <td>28</td>\n",
              "      <td>NaN</td>\n",
              "    </tr>\n",
              "    <tr>\n",
              "      <th>3</th>\n",
              "      <td>500</td>\n",
              "      <td>6/26/2008</td>\n",
              "      <td>Gorgeous 1 BR with Private Balcony</td>\n",
              "      <td>Manhattan</td>\n",
              "      <td>Apartment</td>\n",
              "      <td>NaN</td>\n",
              "      <td>Entire home/apt</td>\n",
              "      <td>10024.0</td>\n",
              "      <td>3.0</td>\n",
              "      <td>1</td>\n",
              "      <td>0</td>\n",
              "      <td>199</td>\n",
              "      <td>NaN</td>\n",
              "    </tr>\n",
              "    <tr>\n",
              "      <th>4</th>\n",
              "      <td>500</td>\n",
              "      <td>6/26/2008</td>\n",
              "      <td>Trendy Times Square Loft</td>\n",
              "      <td>Manhattan</td>\n",
              "      <td>Apartment</td>\n",
              "      <td>95.0</td>\n",
              "      <td>Private room</td>\n",
              "      <td>10036.0</td>\n",
              "      <td>3.0</td>\n",
              "      <td>1</td>\n",
              "      <td>39</td>\n",
              "      <td>549</td>\n",
              "      <td>96.0</td>\n",
              "    </tr>\n",
              "  </tbody>\n",
              "</table>\n",
              "</div>\n",
              "    <div class=\"colab-df-buttons\">\n",
              "\n",
              "  <div class=\"colab-df-container\">\n",
              "    <button class=\"colab-df-convert\" onclick=\"convertToInteractive('df-9b4a9202-8c94-4531-8a2b-f79cb72ea3bf')\"\n",
              "            title=\"Convert this dataframe to an interactive table.\"\n",
              "            style=\"display:none;\">\n",
              "\n",
              "  <svg xmlns=\"http://www.w3.org/2000/svg\" height=\"24px\" viewBox=\"0 -960 960 960\">\n",
              "    <path d=\"M120-120v-720h720v720H120Zm60-500h600v-160H180v160Zm220 220h160v-160H400v160Zm0 220h160v-160H400v160ZM180-400h160v-160H180v160Zm440 0h160v-160H620v160ZM180-180h160v-160H180v160Zm440 0h160v-160H620v160Z\"/>\n",
              "  </svg>\n",
              "    </button>\n",
              "\n",
              "  <style>\n",
              "    .colab-df-container {\n",
              "      display:flex;\n",
              "      gap: 12px;\n",
              "    }\n",
              "\n",
              "    .colab-df-convert {\n",
              "      background-color: #E8F0FE;\n",
              "      border: none;\n",
              "      border-radius: 50%;\n",
              "      cursor: pointer;\n",
              "      display: none;\n",
              "      fill: #1967D2;\n",
              "      height: 32px;\n",
              "      padding: 0 0 0 0;\n",
              "      width: 32px;\n",
              "    }\n",
              "\n",
              "    .colab-df-convert:hover {\n",
              "      background-color: #E2EBFA;\n",
              "      box-shadow: 0px 1px 2px rgba(60, 64, 67, 0.3), 0px 1px 3px 1px rgba(60, 64, 67, 0.15);\n",
              "      fill: #174EA6;\n",
              "    }\n",
              "\n",
              "    .colab-df-buttons div {\n",
              "      margin-bottom: 4px;\n",
              "    }\n",
              "\n",
              "    [theme=dark] .colab-df-convert {\n",
              "      background-color: #3B4455;\n",
              "      fill: #D2E3FC;\n",
              "    }\n",
              "\n",
              "    [theme=dark] .colab-df-convert:hover {\n",
              "      background-color: #434B5C;\n",
              "      box-shadow: 0px 1px 3px 1px rgba(0, 0, 0, 0.15);\n",
              "      filter: drop-shadow(0px 1px 2px rgba(0, 0, 0, 0.3));\n",
              "      fill: #FFFFFF;\n",
              "    }\n",
              "  </style>\n",
              "\n",
              "    <script>\n",
              "      const buttonEl =\n",
              "        document.querySelector('#df-9b4a9202-8c94-4531-8a2b-f79cb72ea3bf button.colab-df-convert');\n",
              "      buttonEl.style.display =\n",
              "        google.colab.kernel.accessAllowed ? 'block' : 'none';\n",
              "\n",
              "      async function convertToInteractive(key) {\n",
              "        const element = document.querySelector('#df-9b4a9202-8c94-4531-8a2b-f79cb72ea3bf');\n",
              "        const dataTable =\n",
              "          await google.colab.kernel.invokeFunction('convertToInteractive',\n",
              "                                                    [key], {});\n",
              "        if (!dataTable) return;\n",
              "\n",
              "        const docLinkHtml = 'Like what you see? Visit the ' +\n",
              "          '<a target=\"_blank\" href=https://colab.research.google.com/notebooks/data_table.ipynb>data table notebook</a>'\n",
              "          + ' to learn more about interactive tables.';\n",
              "        element.innerHTML = '';\n",
              "        dataTable['output_type'] = 'display_data';\n",
              "        await google.colab.output.renderOutput(dataTable, element);\n",
              "        const docLink = document.createElement('div');\n",
              "        docLink.innerHTML = docLinkHtml;\n",
              "        element.appendChild(docLink);\n",
              "      }\n",
              "    </script>\n",
              "  </div>\n",
              "\n",
              "\n",
              "    <div id=\"df-caa3592c-09cb-43a6-afc0-516e21ddae30\">\n",
              "      <button class=\"colab-df-quickchart\" onclick=\"quickchart('df-caa3592c-09cb-43a6-afc0-516e21ddae30')\"\n",
              "                title=\"Suggest charts\"\n",
              "                style=\"display:none;\">\n",
              "\n",
              "<svg xmlns=\"http://www.w3.org/2000/svg\" height=\"24px\"viewBox=\"0 0 24 24\"\n",
              "     width=\"24px\">\n",
              "    <g>\n",
              "        <path d=\"M19 3H5c-1.1 0-2 .9-2 2v14c0 1.1.9 2 2 2h14c1.1 0 2-.9 2-2V5c0-1.1-.9-2-2-2zM9 17H7v-7h2v7zm4 0h-2V7h2v10zm4 0h-2v-4h2v4z\"/>\n",
              "    </g>\n",
              "</svg>\n",
              "      </button>\n",
              "\n",
              "<style>\n",
              "  .colab-df-quickchart {\n",
              "      --bg-color: #E8F0FE;\n",
              "      --fill-color: #1967D2;\n",
              "      --hover-bg-color: #E2EBFA;\n",
              "      --hover-fill-color: #174EA6;\n",
              "      --disabled-fill-color: #AAA;\n",
              "      --disabled-bg-color: #DDD;\n",
              "  }\n",
              "\n",
              "  [theme=dark] .colab-df-quickchart {\n",
              "      --bg-color: #3B4455;\n",
              "      --fill-color: #D2E3FC;\n",
              "      --hover-bg-color: #434B5C;\n",
              "      --hover-fill-color: #FFFFFF;\n",
              "      --disabled-bg-color: #3B4455;\n",
              "      --disabled-fill-color: #666;\n",
              "  }\n",
              "\n",
              "  .colab-df-quickchart {\n",
              "    background-color: var(--bg-color);\n",
              "    border: none;\n",
              "    border-radius: 50%;\n",
              "    cursor: pointer;\n",
              "    display: none;\n",
              "    fill: var(--fill-color);\n",
              "    height: 32px;\n",
              "    padding: 0;\n",
              "    width: 32px;\n",
              "  }\n",
              "\n",
              "  .colab-df-quickchart:hover {\n",
              "    background-color: var(--hover-bg-color);\n",
              "    box-shadow: 0 1px 2px rgba(60, 64, 67, 0.3), 0 1px 3px 1px rgba(60, 64, 67, 0.15);\n",
              "    fill: var(--button-hover-fill-color);\n",
              "  }\n",
              "\n",
              "  .colab-df-quickchart-complete:disabled,\n",
              "  .colab-df-quickchart-complete:disabled:hover {\n",
              "    background-color: var(--disabled-bg-color);\n",
              "    fill: var(--disabled-fill-color);\n",
              "    box-shadow: none;\n",
              "  }\n",
              "\n",
              "  .colab-df-spinner {\n",
              "    border: 2px solid var(--fill-color);\n",
              "    border-color: transparent;\n",
              "    border-bottom-color: var(--fill-color);\n",
              "    animation:\n",
              "      spin 1s steps(1) infinite;\n",
              "  }\n",
              "\n",
              "  @keyframes spin {\n",
              "    0% {\n",
              "      border-color: transparent;\n",
              "      border-bottom-color: var(--fill-color);\n",
              "      border-left-color: var(--fill-color);\n",
              "    }\n",
              "    20% {\n",
              "      border-color: transparent;\n",
              "      border-left-color: var(--fill-color);\n",
              "      border-top-color: var(--fill-color);\n",
              "    }\n",
              "    30% {\n",
              "      border-color: transparent;\n",
              "      border-left-color: var(--fill-color);\n",
              "      border-top-color: var(--fill-color);\n",
              "      border-right-color: var(--fill-color);\n",
              "    }\n",
              "    40% {\n",
              "      border-color: transparent;\n",
              "      border-right-color: var(--fill-color);\n",
              "      border-top-color: var(--fill-color);\n",
              "    }\n",
              "    60% {\n",
              "      border-color: transparent;\n",
              "      border-right-color: var(--fill-color);\n",
              "    }\n",
              "    80% {\n",
              "      border-color: transparent;\n",
              "      border-right-color: var(--fill-color);\n",
              "      border-bottom-color: var(--fill-color);\n",
              "    }\n",
              "    90% {\n",
              "      border-color: transparent;\n",
              "      border-bottom-color: var(--fill-color);\n",
              "    }\n",
              "  }\n",
              "</style>\n",
              "\n",
              "      <script>\n",
              "        async function quickchart(key) {\n",
              "          const quickchartButtonEl =\n",
              "            document.querySelector('#' + key + ' button');\n",
              "          quickchartButtonEl.disabled = true;  // To prevent multiple clicks.\n",
              "          quickchartButtonEl.classList.add('colab-df-spinner');\n",
              "          try {\n",
              "            const charts = await google.colab.kernel.invokeFunction(\n",
              "                'suggestCharts', [key], {});\n",
              "          } catch (error) {\n",
              "            console.error('Error during call to suggestCharts:', error);\n",
              "          }\n",
              "          quickchartButtonEl.classList.remove('colab-df-spinner');\n",
              "          quickchartButtonEl.classList.add('colab-df-quickchart-complete');\n",
              "        }\n",
              "        (() => {\n",
              "          let quickchartButtonEl =\n",
              "            document.querySelector('#df-caa3592c-09cb-43a6-afc0-516e21ddae30 button');\n",
              "          quickchartButtonEl.style.display =\n",
              "            google.colab.kernel.accessAllowed ? 'block' : 'none';\n",
              "        })();\n",
              "      </script>\n",
              "    </div>\n",
              "\n",
              "    </div>\n",
              "  </div>\n"
            ],
            "application/vnd.google.colaboratory.intrinsic+json": {
              "type": "dataframe",
              "variable_name": "df",
              "summary": "{\n  \"name\": \"df\",\n  \"rows\": 30478,\n  \"fields\": [\n    {\n      \"column\": \"Host Id\",\n      \"properties\": {\n        \"dtype\": \"number\",\n        \"std\": 11902702,\n        \"min\": 500,\n        \"max\": 43033067,\n        \"num_unique_values\": 24421,\n        \"samples\": [\n          24093114,\n          16925490,\n          2886652\n        ],\n        \"semantic_type\": \"\",\n        \"description\": \"\"\n      }\n    },\n    {\n      \"column\": \"Host Since\",\n      \"properties\": {\n        \"dtype\": \"date\",\n        \"min\": \"2008-06-26 00:00:00\",\n        \"max\": \"2015-08-31 00:00:00\",\n        \"num_unique_values\": 2240,\n        \"samples\": [\n          \"5/20/2010\",\n          \"7/2/2009\",\n          \"4/18/2015\"\n        ],\n        \"semantic_type\": \"\",\n        \"description\": \"\"\n      }\n    },\n    {\n      \"column\": \"Name\",\n      \"properties\": {\n        \"dtype\": \"string\",\n        \"num_unique_values\": 29413,\n        \"samples\": [\n          \"Explore the beauty of Brooklyn\",\n          \"Sunny Room in Williamsburg Loft\",\n          \"cozy one bedroom in lower east side\"\n        ],\n        \"semantic_type\": \"\",\n        \"description\": \"\"\n      }\n    },\n    {\n      \"column\": \"Neighbourhood \",\n      \"properties\": {\n        \"dtype\": \"category\",\n        \"num_unique_values\": 5,\n        \"samples\": [\n          \"Manhattan\",\n          \"Staten Island\",\n          \"Queens\"\n        ],\n        \"semantic_type\": \"\",\n        \"description\": \"\"\n      }\n    },\n    {\n      \"column\": \"Property Type\",\n      \"properties\": {\n        \"dtype\": \"category\",\n        \"num_unique_values\": 19,\n        \"samples\": [\n          \"Apartment\",\n          \"Condominium\",\n          \"Bungalow\"\n        ],\n        \"semantic_type\": \"\",\n        \"description\": \"\"\n      }\n    },\n    {\n      \"column\": \"Review Scores Rating (bin)\",\n      \"properties\": {\n        \"dtype\": \"number\",\n        \"std\": 9.05951861814779,\n        \"min\": 20.0,\n        \"max\": 100.0,\n        \"num_unique_values\": 15,\n        \"samples\": [\n          40.0,\n          20.0,\n          95.0\n        ],\n        \"semantic_type\": \"\",\n        \"description\": \"\"\n      }\n    },\n    {\n      \"column\": \"Room Type\",\n      \"properties\": {\n        \"dtype\": \"category\",\n        \"num_unique_values\": 3,\n        \"samples\": [\n          \"Entire home/apt\",\n          \"Private room\",\n          \"Shared room\"\n        ],\n        \"semantic_type\": \"\",\n        \"description\": \"\"\n      }\n    },\n    {\n      \"column\": \"Zipcode\",\n      \"properties\": {\n        \"dtype\": \"number\",\n        \"std\": 921.2993969568683,\n        \"min\": 1003.0,\n        \"max\": 99135.0,\n        \"num_unique_values\": 188,\n        \"samples\": [\n          11414.0,\n          11239.0,\n          11365.0\n        ],\n        \"semantic_type\": \"\",\n        \"description\": \"\"\n      }\n    },\n    {\n      \"column\": \"Beds\",\n      \"properties\": {\n        \"dtype\": \"number\",\n        \"std\": 1.0153587174802678,\n        \"min\": 0.0,\n        \"max\": 16.0,\n        \"num_unique_values\": 14,\n        \"samples\": [\n          12.0,\n          16.0,\n          1.0\n        ],\n        \"semantic_type\": \"\",\n        \"description\": \"\"\n      }\n    },\n    {\n      \"column\": \"Number of Records\",\n      \"properties\": {\n        \"dtype\": \"number\",\n        \"std\": 0,\n        \"min\": 1,\n        \"max\": 1,\n        \"num_unique_values\": 1,\n        \"samples\": [\n          1\n        ],\n        \"semantic_type\": \"\",\n        \"description\": \"\"\n      }\n    },\n    {\n      \"column\": \"Number Of Reviews\",\n      \"properties\": {\n        \"dtype\": \"number\",\n        \"std\": 21,\n        \"min\": 0,\n        \"max\": 257,\n        \"num_unique_values\": 205,\n        \"samples\": [\n          171\n        ],\n        \"semantic_type\": \"\",\n        \"description\": \"\"\n      }\n    },\n    {\n      \"column\": \"Price\",\n      \"properties\": {\n        \"dtype\": \"category\",\n        \"num_unique_values\": 511,\n        \"samples\": [\n          \"299\"\n        ],\n        \"semantic_type\": \"\",\n        \"description\": \"\"\n      }\n    },\n    {\n      \"column\": \"Review Scores Rating\",\n      \"properties\": {\n        \"dtype\": \"number\",\n        \"std\": 8.850373136231884,\n        \"min\": 20.0,\n        \"max\": 100.0,\n        \"num_unique_values\": 51,\n        \"samples\": [\n          58.0\n        ],\n        \"semantic_type\": \"\",\n        \"description\": \"\"\n      }\n    }\n  ]\n}"
            }
          },
          "metadata": {},
          "execution_count": 116
        }
      ],
      "source": [
        "df = pd.read_csv('airbnb_hw.csv')\n",
        "df.head()\n",
        "\n"
      ]
    },
    {
      "cell_type": "code",
      "source": [
        "# Numbers over 999 have commas which cause formatting issues when converting the column to a numeric data type so i removed the commas and the $ signs. This makes sure that all prices over 999 are correctly processed.\n",
        "\n",
        "df['Price Cleaned'] = (\n",
        "    df[\"Price\"] .astype(str).str.replace(\"$\",\"\", regex = False).str.replace(\",\", \"\", regex=False).str.strip()\n",
        ")\n",
        "\n",
        "\n",
        "# Checking the missing count to ensure that there arent prices that were not converted correctly\n",
        "\n",
        "missing_count = df['Price Cleaned'].isna().sum()\n",
        "total_count = len(df)\n",
        "print(f\"Number of missing values: {missing_count}/ {total_count}\")\n",
        "\n"
      ],
      "metadata": {
        "id": "LTIJ4mtDkkOY",
        "outputId": "426e64ed-f33a-41ac-8fa5-7fd8f2e55611",
        "colab": {
          "base_uri": "https://localhost:8080/"
        }
      },
      "id": "LTIJ4mtDkkOY",
      "execution_count": null,
      "outputs": [
        {
          "output_type": "stream",
          "name": "stdout",
          "text": [
            "Number of missing values: 0/ 30478\n"
          ]
        }
      ]
    },
    {
      "cell_type": "code",
      "source": [],
      "metadata": {
        "id": "CsIoOahHmfJj"
      },
      "id": "CsIoOahHmfJj",
      "execution_count": null,
      "outputs": []
    },
    {
      "cell_type": "code",
      "source": [
        "df_force = pd.read_csv(\"mn_police_use_of_force.csv\")\n",
        "print(df_force['subject_injury'].value_counts(dropna=False))"
      ],
      "metadata": {
        "id": "BXHQqagUkrMq",
        "outputId": "8feccf51-225a-4dd8-d530-5430a19c1611",
        "colab": {
          "base_uri": "https://localhost:8080/"
        }
      },
      "id": "BXHQqagUkrMq",
      "execution_count": null,
      "outputs": [
        {
          "output_type": "stream",
          "name": "stdout",
          "text": [
            "subject_injury\n",
            "NaN    9848\n",
            "Yes    1631\n",
            "No     1446\n",
            "Name: count, dtype: int64\n"
          ]
        }
      ]
    },
    {
      "cell_type": "code",
      "source": [
        "# count missing values\n",
        "missing_count = df_force['subject_injury'].isna().sum()\n",
        "total_count = len(df_force)\n",
        "print(f\"Number of missing values: {missing_count}/ {total_count}\")\n"
      ],
      "metadata": {
        "id": "X8i8p9nNmxOy",
        "outputId": "d2d90f66-796c-447e-f1f3-74c3d84ba7a0",
        "colab": {
          "base_uri": "https://localhost:8080/"
        }
      },
      "id": "X8i8p9nNmxOy",
      "execution_count": null,
      "outputs": [
        {
          "output_type": "stream",
          "name": "stdout",
          "text": [
            "Number of missing values: 9848/ 12925\n"
          ]
        }
      ]
    },
    {
      "cell_type": "markdown",
      "source": [
        "There is 9848 values missing. This is definitely a concern."
      ],
      "metadata": {
        "id": "2UMAABZCm2Uc"
      },
      "id": "2UMAABZCm2Uc"
    },
    {
      "cell_type": "code",
      "source": [
        "# Fill NaN with Missing to analyze the data\n",
        "cross_tab = pd.crosstab(df_force['subject_injury'].fillna('Missing'), df_force['force_type'])\n",
        "print(cross_tab)"
      ],
      "metadata": {
        "id": "-TJ009GmnBzz",
        "outputId": "0b7f9053-ea27-44c8-f567-e8a3fa5d94ec",
        "colab": {
          "base_uri": "https://localhost:8080/"
        }
      },
      "id": "-TJ009GmnBzz",
      "execution_count": null,
      "outputs": [
        {
          "output_type": "stream",
          "name": "stdout",
          "text": [
            "force_type      Baton  Bodily Force  Chemical Irritant  Firearm  \\\n",
            "subject_injury                                                    \n",
            "Missing             2          7051               1421        0   \n",
            "No                  0          1093                131        2   \n",
            "Yes                 2          1286                 41        0   \n",
            "\n",
            "force_type      Gun Point Display  Improvised Weapon  Less Lethal  \\\n",
            "subject_injury                                                      \n",
            "Missing                        27                 74           87   \n",
            "No                             33                 34            0   \n",
            "Yes                            44                 40            0   \n",
            "\n",
            "force_type      Less Lethal Projectile  Maximal Restraint Technique  \\\n",
            "subject_injury                                                        \n",
            "Missing                              0                          170   \n",
            "No                                   1                            0   \n",
            "Yes                                  2                            0   \n",
            "\n",
            "force_type      Police K9 Bite  Taser  \n",
            "subject_injury                         \n",
            "Missing                     31    985  \n",
            "No                           2    150  \n",
            "Yes                         44    172  \n"
          ]
        }
      ]
    },
    {
      "cell_type": "markdown",
      "source": [
        "Yes, missing subject_injury ddata is most common with Bodily Force and Chemical Irritant cases, suggesting underreporting or inconsistent documentation for less-severe force types. More serious force types like Tasers and K9 bites have more complete injury records. This pattern shows that missing data is not random, which could bias the analysis."
      ],
      "metadata": {
        "id": "xQtPpquCn7mO"
      },
      "id": "xQtPpquCn7mO"
    },
    {
      "cell_type": "code",
      "source": [],
      "metadata": {
        "id": "IvLJeiI9oWyB"
      },
      "id": "IvLJeiI9oWyB",
      "execution_count": null,
      "outputs": []
    },
    {
      "cell_type": "markdown",
      "id": "5a60a44e",
      "metadata": {
        "id": "5a60a44e"
      },
      "source": [
        "**Q2.** Go to https://sharkattackfile.net/ and download their dataset on shark attacks (Hint: `GSAF5.xls`).\n",
        "\n",
        "1. Open the shark attack file using Pandas. It is probably not a csv file, so `read_csv` won't work.\n",
        "2. Drop any columns that do not contain data.\n",
        "3. Clean the year variable. Describe the range of values you see. Filter the rows to focus on attacks since 1940. Are attacks increasing, decreasing, or remaining constant over time?\n",
        "4. Clean the Age variable and make a histogram of the ages of the victims.\n",
        "5. What proportion of victims are male?\n",
        "6. Clean the `Type` variable so it only takes three values: Provoked and Unprovoked and Unknown. What proportion of attacks are unprovoked?\n",
        "7. Clean the `Fatal Y/N` variable so it only takes three values: Y, N, and Unknown.\n",
        "8. Are sharks more likely to launch unprovoked attacks on men or women? Is the attack more or less likely to be fatal when the attack is provoked or unprovoked? Is it more or less likely to be fatal when the victim is male or female? How do you feel about sharks?\n",
        "9. What proportion of attacks appear to be by white sharks? (Hint: `str.split()` makes a vector of text values into a list of lists, split by spaces.)"
      ]
    },
    {
      "cell_type": "code",
      "execution_count": null,
      "id": "a3f03830",
      "metadata": {
        "id": "a3f03830",
        "outputId": "5b9184be-f3f6-4b66-9cc3-940790fcad5c",
        "colab": {
          "base_uri": "https://localhost:8080/",
          "height": 236
        }
      },
      "outputs": [
        {
          "output_type": "execute_result",
          "data": {
            "text/plain": [
              "               Date    Year        Type      Country  \\\n",
              "0  16th August 2025  2025.0    Provoked          USA   \n",
              "1       18th August  2025.0  Unprovoked    Australia   \n",
              "2       17th August  2025.0  Unprovoked      Bahamas   \n",
              "3        7th August  2025.0  Unprovoked    Australia   \n",
              "4        1st August  2025.0  Unprovoked  Puerto Rico   \n",
              "\n",
              "                               State                             Location  \\\n",
              "0                            Florida               Cayo Costa Boca Grande   \n",
              "1                                NSW                       Cabarita Beach   \n",
              "2  Atlantic Ocean near Big Grand Cay  North of Grand Bahama near Freeport   \n",
              "3                                NSW                        Tathra Beach    \n",
              "4                           Carolina                       Carolina Beach   \n",
              "\n",
              "       Activity          Name Sex Age  ...                 Species   \\\n",
              "0       Fishing   Shawn Meuse   M   ?  ...  Lemon shark 1.8 m (6ft)   \n",
              "1       Surfing     Brad Ross   M   ?  ...  5m (16.5ft) Great White   \n",
              "2  Spearfishing    Not stated   M  63  ...             Undetermined   \n",
              "3       Surfing   Bowie Daley   M   9  ...    Suspected Great White   \n",
              "4        Wading  Eleonora Boi   F  39  ...             Undetermined   \n",
              "\n",
              "                                              Source  pdf href formula href  \\\n",
              "0  Johannes Marchand: Kevin McMurray Trackingshar...  NaN          NaN  NaN   \n",
              "1  Bob Myatt GSAF The Guardian: 9 News: ABS News:...  NaN          NaN  NaN   \n",
              "2  Ralph Collier GSAF and Kevin MCMurray Tracking...  NaN          NaN  NaN   \n",
              "3                                     Bob Myatt GSAF  NaN          NaN  NaN   \n",
              "4         Kevin McMurray Trackingsharks.com: NY Post  NaN          NaN  NaN   \n",
              "\n",
              "  Case Number Case Number.1 original order Unnamed: 21 Unnamed: 22  \n",
              "0         NaN           NaN            NaN         NaN         NaN  \n",
              "1         NaN           NaN            NaN         NaN         NaN  \n",
              "2         NaN           NaN            NaN         NaN         NaN  \n",
              "3         NaN           NaN            NaN         NaN         NaN  \n",
              "4         NaN           NaN            NaN         NaN         NaN  \n",
              "\n",
              "[5 rows x 23 columns]"
            ],
            "text/html": [
              "\n",
              "  <div id=\"df-193eb7d5-c8d1-4c14-a693-62c82b2f55a5\" class=\"colab-df-container\">\n",
              "    <div>\n",
              "<style scoped>\n",
              "    .dataframe tbody tr th:only-of-type {\n",
              "        vertical-align: middle;\n",
              "    }\n",
              "\n",
              "    .dataframe tbody tr th {\n",
              "        vertical-align: top;\n",
              "    }\n",
              "\n",
              "    .dataframe thead th {\n",
              "        text-align: right;\n",
              "    }\n",
              "</style>\n",
              "<table border=\"1\" class=\"dataframe\">\n",
              "  <thead>\n",
              "    <tr style=\"text-align: right;\">\n",
              "      <th></th>\n",
              "      <th>Date</th>\n",
              "      <th>Year</th>\n",
              "      <th>Type</th>\n",
              "      <th>Country</th>\n",
              "      <th>State</th>\n",
              "      <th>Location</th>\n",
              "      <th>Activity</th>\n",
              "      <th>Name</th>\n",
              "      <th>Sex</th>\n",
              "      <th>Age</th>\n",
              "      <th>...</th>\n",
              "      <th>Species</th>\n",
              "      <th>Source</th>\n",
              "      <th>pdf</th>\n",
              "      <th>href formula</th>\n",
              "      <th>href</th>\n",
              "      <th>Case Number</th>\n",
              "      <th>Case Number.1</th>\n",
              "      <th>original order</th>\n",
              "      <th>Unnamed: 21</th>\n",
              "      <th>Unnamed: 22</th>\n",
              "    </tr>\n",
              "  </thead>\n",
              "  <tbody>\n",
              "    <tr>\n",
              "      <th>0</th>\n",
              "      <td>16th August 2025</td>\n",
              "      <td>2025.0</td>\n",
              "      <td>Provoked</td>\n",
              "      <td>USA</td>\n",
              "      <td>Florida</td>\n",
              "      <td>Cayo Costa Boca Grande</td>\n",
              "      <td>Fishing</td>\n",
              "      <td>Shawn Meuse</td>\n",
              "      <td>M</td>\n",
              "      <td>?</td>\n",
              "      <td>...</td>\n",
              "      <td>Lemon shark 1.8 m (6ft)</td>\n",
              "      <td>Johannes Marchand: Kevin McMurray Trackingshar...</td>\n",
              "      <td>NaN</td>\n",
              "      <td>NaN</td>\n",
              "      <td>NaN</td>\n",
              "      <td>NaN</td>\n",
              "      <td>NaN</td>\n",
              "      <td>NaN</td>\n",
              "      <td>NaN</td>\n",
              "      <td>NaN</td>\n",
              "    </tr>\n",
              "    <tr>\n",
              "      <th>1</th>\n",
              "      <td>18th August</td>\n",
              "      <td>2025.0</td>\n",
              "      <td>Unprovoked</td>\n",
              "      <td>Australia</td>\n",
              "      <td>NSW</td>\n",
              "      <td>Cabarita Beach</td>\n",
              "      <td>Surfing</td>\n",
              "      <td>Brad Ross</td>\n",
              "      <td>M</td>\n",
              "      <td>?</td>\n",
              "      <td>...</td>\n",
              "      <td>5m (16.5ft) Great White</td>\n",
              "      <td>Bob Myatt GSAF The Guardian: 9 News: ABS News:...</td>\n",
              "      <td>NaN</td>\n",
              "      <td>NaN</td>\n",
              "      <td>NaN</td>\n",
              "      <td>NaN</td>\n",
              "      <td>NaN</td>\n",
              "      <td>NaN</td>\n",
              "      <td>NaN</td>\n",
              "      <td>NaN</td>\n",
              "    </tr>\n",
              "    <tr>\n",
              "      <th>2</th>\n",
              "      <td>17th August</td>\n",
              "      <td>2025.0</td>\n",
              "      <td>Unprovoked</td>\n",
              "      <td>Bahamas</td>\n",
              "      <td>Atlantic Ocean near Big Grand Cay</td>\n",
              "      <td>North of Grand Bahama near Freeport</td>\n",
              "      <td>Spearfishing</td>\n",
              "      <td>Not stated</td>\n",
              "      <td>M</td>\n",
              "      <td>63</td>\n",
              "      <td>...</td>\n",
              "      <td>Undetermined</td>\n",
              "      <td>Ralph Collier GSAF and Kevin MCMurray Tracking...</td>\n",
              "      <td>NaN</td>\n",
              "      <td>NaN</td>\n",
              "      <td>NaN</td>\n",
              "      <td>NaN</td>\n",
              "      <td>NaN</td>\n",
              "      <td>NaN</td>\n",
              "      <td>NaN</td>\n",
              "      <td>NaN</td>\n",
              "    </tr>\n",
              "    <tr>\n",
              "      <th>3</th>\n",
              "      <td>7th August</td>\n",
              "      <td>2025.0</td>\n",
              "      <td>Unprovoked</td>\n",
              "      <td>Australia</td>\n",
              "      <td>NSW</td>\n",
              "      <td>Tathra Beach</td>\n",
              "      <td>Surfing</td>\n",
              "      <td>Bowie Daley</td>\n",
              "      <td>M</td>\n",
              "      <td>9</td>\n",
              "      <td>...</td>\n",
              "      <td>Suspected Great White</td>\n",
              "      <td>Bob Myatt GSAF</td>\n",
              "      <td>NaN</td>\n",
              "      <td>NaN</td>\n",
              "      <td>NaN</td>\n",
              "      <td>NaN</td>\n",
              "      <td>NaN</td>\n",
              "      <td>NaN</td>\n",
              "      <td>NaN</td>\n",
              "      <td>NaN</td>\n",
              "    </tr>\n",
              "    <tr>\n",
              "      <th>4</th>\n",
              "      <td>1st August</td>\n",
              "      <td>2025.0</td>\n",
              "      <td>Unprovoked</td>\n",
              "      <td>Puerto Rico</td>\n",
              "      <td>Carolina</td>\n",
              "      <td>Carolina Beach</td>\n",
              "      <td>Wading</td>\n",
              "      <td>Eleonora Boi</td>\n",
              "      <td>F</td>\n",
              "      <td>39</td>\n",
              "      <td>...</td>\n",
              "      <td>Undetermined</td>\n",
              "      <td>Kevin McMurray Trackingsharks.com: NY Post</td>\n",
              "      <td>NaN</td>\n",
              "      <td>NaN</td>\n",
              "      <td>NaN</td>\n",
              "      <td>NaN</td>\n",
              "      <td>NaN</td>\n",
              "      <td>NaN</td>\n",
              "      <td>NaN</td>\n",
              "      <td>NaN</td>\n",
              "    </tr>\n",
              "  </tbody>\n",
              "</table>\n",
              "<p>5 rows × 23 columns</p>\n",
              "</div>\n",
              "    <div class=\"colab-df-buttons\">\n",
              "\n",
              "  <div class=\"colab-df-container\">\n",
              "    <button class=\"colab-df-convert\" onclick=\"convertToInteractive('df-193eb7d5-c8d1-4c14-a693-62c82b2f55a5')\"\n",
              "            title=\"Convert this dataframe to an interactive table.\"\n",
              "            style=\"display:none;\">\n",
              "\n",
              "  <svg xmlns=\"http://www.w3.org/2000/svg\" height=\"24px\" viewBox=\"0 -960 960 960\">\n",
              "    <path d=\"M120-120v-720h720v720H120Zm60-500h600v-160H180v160Zm220 220h160v-160H400v160Zm0 220h160v-160H400v160ZM180-400h160v-160H180v160Zm440 0h160v-160H620v160ZM180-180h160v-160H180v160Zm440 0h160v-160H620v160Z\"/>\n",
              "  </svg>\n",
              "    </button>\n",
              "\n",
              "  <style>\n",
              "    .colab-df-container {\n",
              "      display:flex;\n",
              "      gap: 12px;\n",
              "    }\n",
              "\n",
              "    .colab-df-convert {\n",
              "      background-color: #E8F0FE;\n",
              "      border: none;\n",
              "      border-radius: 50%;\n",
              "      cursor: pointer;\n",
              "      display: none;\n",
              "      fill: #1967D2;\n",
              "      height: 32px;\n",
              "      padding: 0 0 0 0;\n",
              "      width: 32px;\n",
              "    }\n",
              "\n",
              "    .colab-df-convert:hover {\n",
              "      background-color: #E2EBFA;\n",
              "      box-shadow: 0px 1px 2px rgba(60, 64, 67, 0.3), 0px 1px 3px 1px rgba(60, 64, 67, 0.15);\n",
              "      fill: #174EA6;\n",
              "    }\n",
              "\n",
              "    .colab-df-buttons div {\n",
              "      margin-bottom: 4px;\n",
              "    }\n",
              "\n",
              "    [theme=dark] .colab-df-convert {\n",
              "      background-color: #3B4455;\n",
              "      fill: #D2E3FC;\n",
              "    }\n",
              "\n",
              "    [theme=dark] .colab-df-convert:hover {\n",
              "      background-color: #434B5C;\n",
              "      box-shadow: 0px 1px 3px 1px rgba(0, 0, 0, 0.15);\n",
              "      filter: drop-shadow(0px 1px 2px rgba(0, 0, 0, 0.3));\n",
              "      fill: #FFFFFF;\n",
              "    }\n",
              "  </style>\n",
              "\n",
              "    <script>\n",
              "      const buttonEl =\n",
              "        document.querySelector('#df-193eb7d5-c8d1-4c14-a693-62c82b2f55a5 button.colab-df-convert');\n",
              "      buttonEl.style.display =\n",
              "        google.colab.kernel.accessAllowed ? 'block' : 'none';\n",
              "\n",
              "      async function convertToInteractive(key) {\n",
              "        const element = document.querySelector('#df-193eb7d5-c8d1-4c14-a693-62c82b2f55a5');\n",
              "        const dataTable =\n",
              "          await google.colab.kernel.invokeFunction('convertToInteractive',\n",
              "                                                    [key], {});\n",
              "        if (!dataTable) return;\n",
              "\n",
              "        const docLinkHtml = 'Like what you see? Visit the ' +\n",
              "          '<a target=\"_blank\" href=https://colab.research.google.com/notebooks/data_table.ipynb>data table notebook</a>'\n",
              "          + ' to learn more about interactive tables.';\n",
              "        element.innerHTML = '';\n",
              "        dataTable['output_type'] = 'display_data';\n",
              "        await google.colab.output.renderOutput(dataTable, element);\n",
              "        const docLink = document.createElement('div');\n",
              "        docLink.innerHTML = docLinkHtml;\n",
              "        element.appendChild(docLink);\n",
              "      }\n",
              "    </script>\n",
              "  </div>\n",
              "\n",
              "\n",
              "    <div id=\"df-bacd5b85-ebdd-484a-9c5a-372e7a32b783\">\n",
              "      <button class=\"colab-df-quickchart\" onclick=\"quickchart('df-bacd5b85-ebdd-484a-9c5a-372e7a32b783')\"\n",
              "                title=\"Suggest charts\"\n",
              "                style=\"display:none;\">\n",
              "\n",
              "<svg xmlns=\"http://www.w3.org/2000/svg\" height=\"24px\"viewBox=\"0 0 24 24\"\n",
              "     width=\"24px\">\n",
              "    <g>\n",
              "        <path d=\"M19 3H5c-1.1 0-2 .9-2 2v14c0 1.1.9 2 2 2h14c1.1 0 2-.9 2-2V5c0-1.1-.9-2-2-2zM9 17H7v-7h2v7zm4 0h-2V7h2v10zm4 0h-2v-4h2v4z\"/>\n",
              "    </g>\n",
              "</svg>\n",
              "      </button>\n",
              "\n",
              "<style>\n",
              "  .colab-df-quickchart {\n",
              "      --bg-color: #E8F0FE;\n",
              "      --fill-color: #1967D2;\n",
              "      --hover-bg-color: #E2EBFA;\n",
              "      --hover-fill-color: #174EA6;\n",
              "      --disabled-fill-color: #AAA;\n",
              "      --disabled-bg-color: #DDD;\n",
              "  }\n",
              "\n",
              "  [theme=dark] .colab-df-quickchart {\n",
              "      --bg-color: #3B4455;\n",
              "      --fill-color: #D2E3FC;\n",
              "      --hover-bg-color: #434B5C;\n",
              "      --hover-fill-color: #FFFFFF;\n",
              "      --disabled-bg-color: #3B4455;\n",
              "      --disabled-fill-color: #666;\n",
              "  }\n",
              "\n",
              "  .colab-df-quickchart {\n",
              "    background-color: var(--bg-color);\n",
              "    border: none;\n",
              "    border-radius: 50%;\n",
              "    cursor: pointer;\n",
              "    display: none;\n",
              "    fill: var(--fill-color);\n",
              "    height: 32px;\n",
              "    padding: 0;\n",
              "    width: 32px;\n",
              "  }\n",
              "\n",
              "  .colab-df-quickchart:hover {\n",
              "    background-color: var(--hover-bg-color);\n",
              "    box-shadow: 0 1px 2px rgba(60, 64, 67, 0.3), 0 1px 3px 1px rgba(60, 64, 67, 0.15);\n",
              "    fill: var(--button-hover-fill-color);\n",
              "  }\n",
              "\n",
              "  .colab-df-quickchart-complete:disabled,\n",
              "  .colab-df-quickchart-complete:disabled:hover {\n",
              "    background-color: var(--disabled-bg-color);\n",
              "    fill: var(--disabled-fill-color);\n",
              "    box-shadow: none;\n",
              "  }\n",
              "\n",
              "  .colab-df-spinner {\n",
              "    border: 2px solid var(--fill-color);\n",
              "    border-color: transparent;\n",
              "    border-bottom-color: var(--fill-color);\n",
              "    animation:\n",
              "      spin 1s steps(1) infinite;\n",
              "  }\n",
              "\n",
              "  @keyframes spin {\n",
              "    0% {\n",
              "      border-color: transparent;\n",
              "      border-bottom-color: var(--fill-color);\n",
              "      border-left-color: var(--fill-color);\n",
              "    }\n",
              "    20% {\n",
              "      border-color: transparent;\n",
              "      border-left-color: var(--fill-color);\n",
              "      border-top-color: var(--fill-color);\n",
              "    }\n",
              "    30% {\n",
              "      border-color: transparent;\n",
              "      border-left-color: var(--fill-color);\n",
              "      border-top-color: var(--fill-color);\n",
              "      border-right-color: var(--fill-color);\n",
              "    }\n",
              "    40% {\n",
              "      border-color: transparent;\n",
              "      border-right-color: var(--fill-color);\n",
              "      border-top-color: var(--fill-color);\n",
              "    }\n",
              "    60% {\n",
              "      border-color: transparent;\n",
              "      border-right-color: var(--fill-color);\n",
              "    }\n",
              "    80% {\n",
              "      border-color: transparent;\n",
              "      border-right-color: var(--fill-color);\n",
              "      border-bottom-color: var(--fill-color);\n",
              "    }\n",
              "    90% {\n",
              "      border-color: transparent;\n",
              "      border-bottom-color: var(--fill-color);\n",
              "    }\n",
              "  }\n",
              "</style>\n",
              "\n",
              "      <script>\n",
              "        async function quickchart(key) {\n",
              "          const quickchartButtonEl =\n",
              "            document.querySelector('#' + key + ' button');\n",
              "          quickchartButtonEl.disabled = true;  // To prevent multiple clicks.\n",
              "          quickchartButtonEl.classList.add('colab-df-spinner');\n",
              "          try {\n",
              "            const charts = await google.colab.kernel.invokeFunction(\n",
              "                'suggestCharts', [key], {});\n",
              "          } catch (error) {\n",
              "            console.error('Error during call to suggestCharts:', error);\n",
              "          }\n",
              "          quickchartButtonEl.classList.remove('colab-df-spinner');\n",
              "          quickchartButtonEl.classList.add('colab-df-quickchart-complete');\n",
              "        }\n",
              "        (() => {\n",
              "          let quickchartButtonEl =\n",
              "            document.querySelector('#df-bacd5b85-ebdd-484a-9c5a-372e7a32b783 button');\n",
              "          quickchartButtonEl.style.display =\n",
              "            google.colab.kernel.accessAllowed ? 'block' : 'none';\n",
              "        })();\n",
              "      </script>\n",
              "    </div>\n",
              "\n",
              "    </div>\n",
              "  </div>\n"
            ],
            "application/vnd.google.colaboratory.intrinsic+json": {
              "type": "dataframe",
              "variable_name": "df"
            }
          },
          "metadata": {},
          "execution_count": 105
        }
      ],
      "source": [
        "import pandas as pd\n",
        "import numpy as np\n",
        "import matplotlib.pyplot as plt\n",
        "\n",
        "df = pd.read_excel(\"GSAF5.xls\", engine=\"xlrd\")\n",
        "df.head()"
      ]
    },
    {
      "cell_type": "code",
      "source": [
        "# Drop empty columns\n",
        "df = df.dropna(axis = 1, how = \"all\")\n",
        "df.columns = df.columns.str.strip()"
      ],
      "metadata": {
        "id": "BXfcq1pHRudw"
      },
      "id": "BXfcq1pHRudw",
      "execution_count": null,
      "outputs": []
    },
    {
      "cell_type": "code",
      "source": [
        "# clean year\n",
        "df[\"Year\"] = df[\"Year\"].astype(str).str.extract(r\"(\\d{4})\")[0].astype(\"Int64\")\n",
        "\n",
        "# range of years\n",
        "year_min, year_max = df[\"Year\"].min(), df[\"Year\"].max()\n",
        "print(f\"Year range: {year_min} to {year_max}\")\n",
        "\n",
        "# filter to be since 1940\n",
        "df_post_1940 = df[df[\"Year\"] >= 1940]\n",
        "\n",
        "# plot\n",
        "df_post_1940.groupby(\"Year\").size().plot(kind=\"line\", figsize=(10,5), title=\"Shark Attacks since 1940\")\n",
        "plt.xlabel(\"Year\")\n",
        "plt.ylabel(\"Number of Attacks\")\n",
        "plt.show()"
      ],
      "metadata": {
        "id": "j5W7KoLAR70G",
        "outputId": "3242f0a4-1fce-490d-98f7-9d8413d1bc47",
        "colab": {
          "base_uri": "https://localhost:8080/",
          "height": 504
        }
      },
      "id": "j5W7KoLAR70G",
      "execution_count": null,
      "outputs": [
        {
          "output_type": "stream",
          "name": "stdout",
          "text": [
            "Year range: 1000 to 2026\n"
          ]
        },
        {
          "output_type": "display_data",
          "data": {
            "text/plain": [
              "<Figure size 1000x500 with 1 Axes>"
            ],
            "image/png": "[encoded data removed]"
          },
          "metadata": {}
        }
      ]
    },
    {
      "cell_type": "markdown",
      "source": [
        "THe dataset spans from about 1000 AD to around present day. After filtering since 1940, we can see that attacks increase steadily, especailly after 1980. However there has been a dramatic decline after 2020."
      ],
      "metadata": {
        "id": "8cs2Ya91S6VH"
      },
      "id": "8cs2Ya91S6VH"
    },
    {
      "cell_type": "code",
      "source": [
        "# clean age\n",
        "df[\"Age\"] = pd.to_numeric(df[\"Age\"].astype(str).str.extract(r\"(\\d{1,2})\")[0], errors = \"coerce\")\n",
        "\n",
        "# plot\n",
        "df[\"Age\"].dropna().hist(bins=30, figsize=(8,5))\n",
        "plt.xlabel(\"Age\")\n",
        "plt.ylabel(\"Frequency\")\n",
        "plt.title(\"Histogram of Age\")\n",
        "plt.show()\n",
        "\n",
        "\n"
      ],
      "metadata": {
        "id": "qmJQFWyoS473",
        "outputId": "0bd74817-1a51-46fa-c38e-bdcacc806aef",
        "colab": {
          "base_uri": "https://localhost:8080/",
          "height": 487
        }
      },
      "id": "qmJQFWyoS473",
      "execution_count": null,
      "outputs": [
        {
          "output_type": "display_data",
          "data": {
            "text/plain": [
              "<Figure size 800x500 with 1 Axes>"
            ],
            "image/png": "[encoded data removed]"
          },
          "metadata": {}
        }
      ]
    },
    {
      "cell_type": "markdown",
      "source": [],
      "metadata": {
        "id": "pM5Q9DzbVSAJ"
      },
      "id": "pM5Q9DzbVSAJ"
    },
    {
      "cell_type": "code",
      "source": [
        "sex_col = [c for c in df.columns if \"Sex\" in c][0]\n",
        "\n",
        "# clean\n",
        "df[sex_col] = df[sex_col].astype(str).str.upper().str.strip()\n",
        "\n",
        "df[sex_col] = df[sex_col].replace({\n",
        "    \"M\": \"M\",\n",
        "    \"F\": \"F\",\n",
        "    \"M x 2\": \"M\",\n",
        "    \".\": \"Unknown\",\n",
        "    \"LLI \": \"Unknown\",\n",
        "    \"NAN\": \"Unknown\",\n",
        "    \"N\": \"Unknown\",\n",
        "    \"lli\": \"Unknown\",})\n",
        "\n",
        "# proportion male\n",
        "male_prop = (df[sex_col] == \"M\").mean()\n",
        "print(f\"Proportion of male victims: {male_prop:.2f}\")"
      ],
      "metadata": {
        "id": "TVZ3v5ftTYNc",
        "outputId": "822e2c05-ea6e-4554-d5e8-686f75880dc7",
        "colab": {
          "base_uri": "https://localhost:8080/"
        }
      },
      "id": "TVZ3v5ftTYNc",
      "execution_count": null,
      "outputs": [
        {
          "output_type": "stream",
          "name": "stdout",
          "text": [
            "Proportion of male victims: 0.80\n"
          ]
        }
      ]
    },
    {
      "cell_type": "code",
      "source": [
        "type_col = [c for c in df.columns if \"Type\" in c][0]\n",
        "\n",
        "df[type_col] = df[type_col].astype(str).str.strip().str.title()\n",
        "\n",
        "valid = [\"Provoked\", \"Unprovoked\"]\n",
        "df[type_col] = df[type_col].apply(lambda x: x if x in valid else \"Unknown\")\n",
        "\n",
        "# proportion unprovoked\n",
        "unprovoked_prop = (df[\"Type\"] == \"Unprovoked\").mean()\n",
        "print(f\"Proportion of unprovoked attacks: {unprovoked_prop:.2f}\")"
      ],
      "metadata": {
        "id": "5RUKUs8OXOYi",
        "outputId": "47d4ded2-78f8-437a-f49a-2fd92a439637",
        "colab": {
          "base_uri": "https://localhost:8080/"
        }
      },
      "id": "5RUKUs8OXOYi",
      "execution_count": null,
      "outputs": [
        {
          "output_type": "stream",
          "name": "stdout",
          "text": [
            "Proportion of unprovoked attacks: 0.74\n"
          ]
        }
      ]
    },
    {
      "cell_type": "code",
      "source": [
        "# clenaing fatal\n",
        "df[\"Fatal Y/N\"] = df[\"Fatal Y/N\"].astype(str).str.strip().str.title()\n",
        "\n",
        "valid = [\"Y\", \"N\"]\n",
        "df[\"Fatal Y/N\"] = df[\"Fatal Y/N\"].apply(lambda x: x if x in valid else \"Unknown\")\n",
        "\n"
      ],
      "metadata": {
        "id": "E4I6hIpHYPRj"
      },
      "id": "E4I6hIpHYPRj",
      "execution_count": null,
      "outputs": []
    },
    {
      "cell_type": "code",
      "source": [
        "df[\"Sex\"] = df[\"Sex\"].astype(str).str.upper().str.strip()\n",
        "df[\"type\"] = df[\"Type\"].astype(str).str.title().str.strip()\n",
        "df.loc[~df[\"Sex\"].isin([\"M\", \"F\"]), \"Sex\"] = \"Unknown\"\n",
        "df.loc[~df[\"type\"].isin([\"Provoked\", \"Unprovoked\"]), \"type\"] = \"Unknown\"\n",
        "\n",
        "\n",
        "unprovoked_df = df[df['Type'] == \"Unprovoked\"]\n",
        "sex_counts = unprovoked_df[\"Sex\"].value_counts(normalize = True)\n",
        "\n",
        "print(\"Unprovoked Attacks by Sex\")\n",
        "print(sex_counts)\n",
        "\n"
      ],
      "metadata": {
        "id": "4eV3O682byiW",
        "outputId": "48b13c90-f294-42cf-97cf-1ec9e8d52c3d",
        "colab": {
          "base_uri": "https://localhost:8080/"
        }
      },
      "id": "4eV3O682byiW",
      "execution_count": null,
      "outputs": [
        {
          "output_type": "stream",
          "name": "stdout",
          "text": [
            "Unprovoked Attacks by Sex\n",
            "Sex\n",
            "M          0.836059\n",
            "F          0.131422\n",
            "Unknown    0.032519\n",
            "Name: proportion, dtype: float64\n"
          ]
        }
      ]
    },
    {
      "cell_type": "markdown",
      "source": [
        "Sharks are more likely to launch unprovoked attacks on men than women."
      ],
      "metadata": {
        "id": "pOmD6a4Ecojw"
      },
      "id": "pOmD6a4Ecojw"
    },
    {
      "cell_type": "code",
      "source": [
        "df[\"Type\"] = df[\"Type\"].astype(str).str.strip().str.title()\n",
        "df[\"Fatal Y/N\"] = df[\"Fatal Y/N\"].astype(str).str.strip().str.upper()\n",
        "\n",
        "# Keep only the necessary rows\n",
        "fatal_by_type_attack_ = df[(df['Type'].isin(['Provoked', 'Unprovoked'])) & (df['Fatal Y/N'].isin(['Y', 'N']))]\n",
        "\n",
        "# Group by tytpe and fatality to get counts\n",
        "fatal_by_type_attack_ = fatal_by_type_attack_.groupby(['Type', 'Fatal Y/N']).size().groupby(level =0).apply(lambda x: x / x.sum()).unstack()\n",
        "\n",
        "print(fatal_by_type_attack_)"
      ],
      "metadata": {
        "id": "IHkXjPfTg-gy",
        "outputId": "9b947536-bf54-41ea-cb6d-535976693f0b",
        "colab": {
          "base_uri": "https://localhost:8080/"
        }
      },
      "id": "IHkXjPfTg-gy",
      "execution_count": null,
      "outputs": [
        {
          "output_type": "stream",
          "name": "stdout",
          "text": [
            "Fatal Y/N                     N         Y\n",
            "Type       Type                          \n",
            "Provoked   Provoked    0.966772  0.033228\n",
            "Unprovoked Unprovoked  0.753615  0.246385\n"
          ]
        }
      ]
    },
    {
      "cell_type": "markdown",
      "source": [
        "Unprovoked attacks seem to be the ones that result in higher fatality."
      ],
      "metadata": {
        "id": "8AGIiLl7h96L"
      },
      "id": "8AGIiLl7h96L"
    },
    {
      "cell_type": "code",
      "source": [
        "fatal_by_type = df[df['Type'].isin(['Provoked', 'Unprovoked'])]\n",
        "fatal_by_type= fatal_by_type.groupby(['Type', 'Fatal Y/N']).size().groupby(level =0).apply(lambda x: x / x.sum()).unstack()\n",
        "\n",
        "df[\"Sex\"] = df[\"Sex\"].astype(str).str.strip().str.upper()\n",
        "df[\"Fatal Y/N\"] = df[\"Fatal Y/N\"].astype(str).str.strip().str.upper()\n",
        "\n",
        "# Keep only Male/Female and Fatality\n",
        "fatal_vs_sex = df[df[\"Sex\"].isin([\"M\", \"F\"]) & df[\"Fatal Y/N\"].isin([\"Y\", \"N\"])]\n",
        "\n",
        "# calculate proportion of fatal attacks by sex\n",
        "fatal_vs_sex = fatal_vs_sex.groupby([\"Sex\", \"Fatal Y/N\"]).size().groupby(level=0).apply(lambda x: x / x.sum()).unstack()\n",
        "\n",
        "print(fatal_vs_sex)"
      ],
      "metadata": {
        "id": "s67_vZMPcwcu",
        "outputId": "54b89528-ae34-4eb2-c017-5b7e86483574",
        "colab": {
          "base_uri": "https://localhost:8080/"
        }
      },
      "id": "s67_vZMPcwcu",
      "execution_count": null,
      "outputs": [
        {
          "output_type": "stream",
          "name": "stdout",
          "text": [
            "Fatal Y/N         N         Y\n",
            "Sex Sex                      \n",
            "F   F      0.834239  0.165761\n",
            "M   M      0.759052  0.240948\n"
          ]
        }
      ]
    },
    {
      "cell_type": "markdown",
      "source": [
        "The attack is more liekly to be fatal when the victime is male."
      ],
      "metadata": {
        "id": "VzqRQsxcgff_"
      },
      "id": "VzqRQsxcgff_"
    },
    {
      "cell_type": "markdown",
      "source": [
        "I feel that sharks are fascinating creatures. The data shows that while shark attacks can be serious - especialyl when unprovoked - they are very rare and often a result of human activity in their enviornment."
      ],
      "metadata": {
        "id": "PAd7NWvsilZZ"
      },
      "id": "PAd7NWvsilZZ"
    },
    {
      "cell_type": "code",
      "source": [
        "\n",
        "# Unprovoked against sex\n",
        "\n",
        "df[\"Species\"] = df[\"Species\"].astype(str).str.strip().str.lower()\n",
        "\n",
        "white_shark_prop = df[\"Species\"].str.contains(r\"\\bwhite\\b\", na=False).mean()\n",
        "\n",
        "print(f\"Proportion of attacks by white sharks:{white_shark_prop:.2%}\")\n",
        "\n",
        "print(fatal_by_type)"
      ],
      "metadata": {
        "id": "7y-BJpn_ZXQ4",
        "outputId": "c35cf268-dda0-4b03-db04-a77268782ecf",
        "colab": {
          "base_uri": "https://localhost:8080/"
        }
      },
      "id": "7y-BJpn_ZXQ4",
      "execution_count": null,
      "outputs": [
        {
          "output_type": "stream",
          "name": "stdout",
          "text": [
            "Proportion of attacks by white sharks:10.14%\n",
            "Fatal Y/N                     N   UNKNOWN         Y\n",
            "Type       Type                                    \n",
            "Provoked   Provoked    0.953198  0.014041  0.032761\n",
            "Unprovoked Unprovoked  0.742159  0.015201  0.242640\n"
          ]
        }
      ]
    },
    {
      "cell_type": "code",
      "source": [],
      "metadata": {
        "id": "H6R3cm82afDE"
      },
      "id": "H6R3cm82afDE",
      "execution_count": null,
      "outputs": []
    }
  ],
  "metadata": {
    "colab": {
      "provenance": []
    },
    "kernelspec": {
      "display_name": "Python 3 (ipykernel)",
      "language": "python",
      "name": "python3"
    },
    "language_info": {
      "codemirror_mode": {
        "name": "ipython",
        "version": 3
      },
      "file_extension": ".py",
      "mimetype": "text/x-python",
      "name": "python",
      "nbconvert_exporter": "python",
      "pygments_lexer": "ipython3",
      "version": "3.10.18"
    }
  },
  "nbformat": 4,
  "nbformat_minor": 5
}